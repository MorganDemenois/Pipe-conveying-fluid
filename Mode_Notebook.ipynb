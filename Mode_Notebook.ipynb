{
 "cells": [
  {
   "cell_type": "markdown",
   "metadata": {},
   "source": [
    "# Tracé des modes propre du tuyau pour différentes valeurs de $\\beta$ et $\\gamma$"
   ]
  },
  {
   "cell_type": "code",
   "execution_count": 75,
   "metadata": {
    "direction": "rtl",
    "jupyter": {
     "outputs_hidden": true,
     "source_hidden": true
    },
    "scrolled": true
   },
   "outputs": [
    {
     "data": {
      "application/javascript": [
       "MathJax.Hub.Config({\n",
       "    TeX: { equationNumbers: { autoNumber: \"AMS\" } }\n",
       "});\n"
      ],
      "text/plain": [
       "<IPython.core.display.Javascript object>"
      ]
     },
     "metadata": {},
     "output_type": "display_data"
    }
   ],
   "source": [
    "%%javascript\n",
    "MathJax.Hub.Config({\n",
    "    TeX: { equationNumbers: { autoNumber: \"AMS\" } }\n",
    "});"
   ]
  },
  {
   "cell_type": "code",
   "execution_count": 76,
   "metadata": {},
   "outputs": [
    {
     "data": {
      "text/html": [
       "\n",
       "<style>\n",
       ".output_png {\n",
       "    display: table-cell;\n",
       "    text-align: center;\n",
       "    vertical-align: middle;\n",
       "}\n",
       "</style>\n"
      ],
      "text/plain": [
       "<IPython.core.display.HTML object>"
      ]
     },
     "execution_count": 76,
     "metadata": {},
     "output_type": "execute_result"
    }
   ],
   "source": [
    "from IPython.core.display import HTML\n",
    "HTML(\"\"\"\n",
    "<style>\n",
    ".output_png {\n",
    "    display: table-cell;\n",
    "    text-align: center;\n",
    "    vertical-align: middle;\n",
    "}\n",
    "</style>\n",
    "\"\"\")"
   ]
  },
  {
   "cell_type": "markdown",
   "metadata": {},
   "source": [
    "<p>On rappelle l'équation linéaire du tuyau encastré-libre: \n",
    "\\begin{equation} \n",
    "    \\alpha \\dot{\\eta}^{''''}+\\eta^{''''}+(u^2-\\gamma)(1-\\xi)\\eta^{''}+2u\\sqrt{\\beta}\\dot{\\eta}^{'}+\\gamma\\eta^{'}+\\ddot{\\eta} \\end{equation}  \n",
    "    \n",
    "Où $( )^{'} = \\frac{\\partial ( )}{\\partial \\xi}, \\quad \\dot{( )} = \\frac{\\partial ()}{\\partial \\tau} \\quad$\n",
    "Avec $\\xi=\\frac{x}{L},\\quad \\eta=\\frac{w}{L},\\quad \\tau=\\sqrt{\\frac{EI}{M+m}}\\frac{t}{L^2}\\quad $\n",
    "Et $u = \\sqrt{\\frac{M}{EI}}LU, \\quad \\beta=\\frac{M}{M+m}, \\quad \\gamma = \\frac{(M+m)L^3}{EI}g $</p>\n",
    "\n",
    "<p>Pour résoudre cette équation on utilise la méthode de Galerkin consistant à écrire la solution comme une combinaison linéaire des modes propres d'une poutre:  \n",
    "\n",
    "\\begin{equation}\n",
    "\\eta(\\xi,\\tau)=\\sum_{r=1}^{\\infty}\\phi_r(\\xi)q_r(\\tau) \n",
    "\\end{equation}   \n",
    "    \n",
    "Où $\\phi_r(\\xi)$ est la r-ième fonction propre d'une poutre encastrée-libre:  \n",
    "    \n",
    "\\begin{equation}\n",
    "\\phi_r(x)=cosh(\\lambda_r x)-cos(\\lambda_r x)-\\sigma_r(sinh(\\lambda_r x)-sin(\\lambda_r x)) \n",
    "\\end{equation}  \n",
    "    \n",
    "Avec  \n",
    "    \n",
    "\\begin{equation}    \n",
    "\\sigma_r = \\frac{(sinh(\\lambda_r L)-sin(\\lambda_r L)}{cosh(\\lambda_r L)+cos(\\lambda_r L)} \n",
    "\\end{equation}  \n",
    "    \n",
    "Et $\\lambda_r$ la r-iéme valeur propre adimentionnée d'une poutre encastrée libre vérifiant:  \n",
    "    \n",
    "\\begin{equation}\n",
    "cos(\\lambda_r L)cosh(\\lambda_r L)+1=0 \n",
    "\\end{equation}  \n",
    "    \n",
    "Ces résultats peuvent se retrouver facilement en appliquant la théorie des poutres sur une poutre vibrante.</p>\n",
    "<p>On injecte alors la solution (2) dans l'equation (1) et on intégre sur l'intervalle [0,1]. Comme les fonctions propres $\\phi_r$ sont orthonormées on peut écrire:  \n",
    "    \n",
    "\\begin{equation}\n",
    "\\int_0^1\\phi_s\\phi_rd\\xi=\\delta_{sr}\n",
    "\\end{equation}  \n",
    "    \n",
    "De plus l'équation de la poutre encastrée libre donne:  \n",
    "    \n",
    "\\begin{equation}\n",
    "\\phi_r^{''''}=\\lambda_r^4\\phi_r\n",
    "\\end{equation}  \n",
    "    \n",
    "Ainsi on obtient l'équation suivante pour s de 1 à N:  \n",
    "    \n",
    "\\begin{equation}\n",
    "\\sum^N_{r=1}\\{\\delta_{sr}\\ddot{q_r}+(2u\\sqrt{\\beta}\\int_0^1\\phi_s\\phi_r^{''}d\\xi)\\dot{q_r}+[\\lambda_r^4\\delta_{sr}+(u^2-\\gamma)\\int^1_0\\phi_s\\phi_r^{''}d\\xi+\\gamma\\int^1_0\\phi_s\\phi_r^{'}d\\xi+\\gamma\\int^1_0\\xi\\phi_s\\phi_r^{''}d\\xi]q_r\\}=0\n",
    "\\end{equation}  \n",
    "    \n",
    "On peut poser:  \n",
    "    \n",
    "\\begin{equation}\n",
    "b_{sr}=\\int^1_0\\phi_s\\phi_r^{'}d\\xi \\quad c_{sr}=\\int^1_0\\phi_s\\phi_r^{''}d\\xi \\quad d_{sr}=\\int^1_0\\xi\\phi_s\\phi_r^{''}d\\xi\n",
    "\\end{equation}  \n",
    "    \n",
    "Avec les conditions aux limites $\\phi(0)=\\phi(0)^{'}=\\phi(L)^{''}=\\phi(L)^{'''}=0$ on obtient ainsi:  \n",
    "    \n",
    "\\begin{equation}\n",
    "b_{sr}=\\frac{4}{(\\frac{\\lambda_s}{\\lambda_r})^2+(-1)^{r+s}} \\quad (s\\ne r) \\quad\n",
    "b_{rr}=2   \\\\\n",
    "c_{sr}=\\frac{4(\\lambda_r \\sigma_r-\\lambda_s \\sigma_s)} {(-1)^{r+s}-(\\frac{\\lambda_s}{\\lambda_r})^2} \\quad (s\\ne r) \\quad\n",
    "c_{rr}=\\lambda_r \\sigma_r(2-\\lambda_r \\sigma_r)  \\\\\n",
    "d_{sr}=\\frac{4(\\lambda_r \\sigma_r-\\lambda_s \\sigma_s+2)} {(1-(\\frac{\\lambda_s}{\\lambda_r})^4}(-1)^{r+s}-\\frac{3+(\\frac{\\lambda_s}{\\lambda_r})^4}{1-(\\frac{\\lambda_s}{\\lambda_r})^4}b_sr \\quad (s\\ne r) \\quad d_{rr}=\\frac{1}{2}c_{rr}\n",
    "\\end{equation}  \n",
    "    \n",
    "On peut ainsi réécrire (8) sous forme matricielle:  \n",
    "    \n",
    "\\begin{equation}\n",
    "\\ddot{q}+2u\\sqrt{\\beta}B\\dot(q)+[\\Delta+\\gamma B+(u^2-\\gamma)C+\\gamma D]q=0\n",
    "\\end{equation}  \n",
    "    \n",
    "Où les matrices B, C et D sont des matrices de diamension (NxN) respectivement constituées des termes $b_{sr}$ $c_{sr}$ et $d_{sr}$ et où la matrice $\\Delta$ est une matrice diagonale dont les termes sont les $\\lambda_r^4$  \n",
    "    \n",
    "On obtient ainsi un système du type:  \n",
    "    \n",
    "\\begin{equation}\n",
    "M\\ddot{q}+S\\dot{q}+Kq\n",
    "\\end{equation}  \n",
    "    \n",
    "On veut ramener ce problème d'ordre 2 à un problème d'ordre 1, pour cela on pose: $z=(\\dot{q}, q)$ et l'equation (12) se réécrit alors:  \n",
    "    \n",
    "\\begin{equation}\n",
    "F\\dot{z}+Ez=0\n",
    "\\end{equation}  \n",
    "    \n",
    "Avec $F=\\begin{pmatrix}\n",
    "0 & M\\\\\n",
    "M & S\n",
    "\\end{pmatrix}$ et $E=\\begin{pmatrix}\n",
    "-M & 0\\\\\n",
    "0 & K\n",
    "\\end{pmatrix}$  \n",
    "    \n",
    "On propose $z=Ae^{\\lambda \\tau}$ comme solution et on l'injecte dans l'équation (13). On obtient alors:  \n",
    "    \n",
    "\\begin{equation}\n",
    "\\lambda FAe^{\\lambda\\tau}+EAe^{\\lambda \\tau}= 0 \\iff (\\lambda F+E)A=0 \\iff \\lambda I_dA = (-F^{-1}E)A\n",
    "\\end{equation}  \n",
    "    \n",
    "Il nous suffit ainsi de trouver les valeurs propres de la matrice $-F^{-1}E$ pour trouver $\\lambda$"
   ]
  },
  {
   "cell_type": "markdown",
   "metadata": {},
   "source": [
    "Le code suivant permet de résoudre numériquement le problème définit précédemment et de visualiser les modes propres. Il faut exécuter chaque bloc dans l'ordre pour résoudre le problème. Lorsque le symbole de l'onglet est un sablier cela signifie qu'au moins une des cellules est en cours d'exécution. Les cellules en cours d'exécution sont marquées par une astérix entre crochets: [*] et et celles qui ont été exécutées sont marquées par un numéro entre crochets: [n]."
   ]
  },
  {
   "cell_type": "markdown",
   "metadata": {},
   "source": [
    "Ce premier bloc permet d'importer les bibliothéques nécessaires à la résolution du problème. La bibliothéque numpy permet de travailler avec des vecteurs et des matrices. La bibliothéque linalg de scipy permet de calculer les valeurs propres de la matrice. Enfin la bibliothéque matplotlib.pyplot permet de tracer les résultats."
   ]
  },
  {
   "cell_type": "code",
   "execution_count": 61,
   "metadata": {},
   "outputs": [],
   "source": [
    "import numpy as np\n",
    "from scipy import linalg\n",
    "import matplotlib.pyplot as mpl\n",
    "import matplotlib.ticker as mpt"
   ]
  },
  {
   "cell_type": "markdown",
   "metadata": {},
   "source": [
    "Ce second bloc permet de définir les paramètres du calcul. Vous pouvez modifiez ces paramètres librements pour observer leurs influences sur les résultats."
   ]
  },
  {
   "cell_type": "code",
   "execution_count": 62,
   "metadata": {},
   "outputs": [],
   "source": [
    "L = 0.5  ##Longueur du tuyau en m\n",
    "N = 10  ##Nombre de modes de poutre utilisé avec la méthode de Galerkin\n",
    "umax = 20  ##Vitesse maximale du fluide\n",
    "du = 0.1  ##Valeur utilisée pour l'incrémentation de la vitesse du fluide\n",
    "gamma = 10  ##Valeur du paramètre de gravité gamma\n",
    "beta = 0.2  ##Valeur du paramètre de masse beta"
   ]
  },
  {
   "cell_type": "markdown",
   "metadata": {},
   "source": [
    "Ce bloc sert à calculer les N valeurs propres de poutre encastrée-libre $(\\lambda)$. On cherche des solutions de l'équation (3) obtenues avec la théorie des poutres. On commence par définir une fonction qui renvoit la valeur de l'équation caractéristique (3). On cherche ensuite les N premiéres racines de cette fonction. Pour cela on utilise la méthode des sécantes qui reprend le principe de la méthode de Newton. On utilise la relation de récurrence suivante: $x_{n+1}=x_n-\\frac{x_n-x_{n-1}}{f(x_n)-f(x_{n-1})}f(x_n)$ qui converge vers une racine de f. De plus la pratique a montré que $\\lambda_r \\approx \\frac{2k+1}{2}\\pi$. On choisit donc $x_0=\\frac{2k+1}{2}\\pi+0.1$ et $x_1=\\frac{2k+1}{2}\\pi-0.1$ pour chaque valeur propre pour que la méthode converge vers la bonne racine.  "
   ]
  },
  {
   "cell_type": "code",
   "execution_count": 63,
   "metadata": {},
   "outputs": [
    {
     "name": "stdout",
     "output_type": "stream",
     "text": [
      "\n",
      "Valeur propre du mode 1 d'une poutre: \n",
      "1.8751040687119611\n",
      "\n",
      "Valeur propre du mode 2 d'une poutre: \n",
      "4.694091132974175\n",
      "\n",
      "Valeur propre du mode 3 d'une poutre: \n",
      "7.854757438237613\n",
      "\n",
      "Valeur propre du mode 4 d'une poutre: \n",
      "10.995540734875467\n",
      "\n",
      "Valeur propre du mode 5 d'une poutre: \n",
      "14.13716839104647\n",
      "\n",
      "Valeur propre du mode 6 d'une poutre: \n",
      "17.278759532088237\n",
      "\n",
      "Valeur propre du mode 7 d'une poutre: \n",
      "20.42035225104125\n",
      "\n",
      "Valeur propre du mode 8 d'une poutre: \n",
      "23.561944901806445\n",
      "\n",
      "Valeur propre du mode 9 d'une poutre: \n",
      "26.7035375555183\n",
      "\n",
      "Valeur propre du mode 10 d'une poutre: \n",
      "29.845130209102816\n",
      "\n"
     ]
    }
   ],
   "source": [
    "def Eq_Cara(Lambda):\n",
    "    return np.cos(Lambda)*np.cosh(Lambda)+1\n",
    "\n",
    "\n",
    "LAMBDA = []\n",
    "\n",
    "for i in range(N):\n",
    "    LL_Guess = np.pi*(2*i+1)/2  ##Guess initial de la solution en utilisant la formule approchée\n",
    "    x0 = LL_Guess + 0.1 \n",
    "    x1 = LL_Guess - 0.1\n",
    "    while abs(x0-x1)>10**-16:  ##Condition de convergence du code\n",
    "        xnew = x0 - (x0-x1)*Eq_Cara(x0)/(Eq_Cara(x0)-Eq_Cara(x1))  ##Calcul des nouveaux termes à l'aide de la formule de récurrence\n",
    "        x1 = x0\n",
    "        x0 = xnew\n",
    "    LAMBDA.append(x0)\n",
    "\n",
    "##Affichage des résultats\n",
    "print()\n",
    "for i in range(len(LAMBDA)):\n",
    "    print(\"Valeur propre du mode \"+str(i+1)+\" d'une poutre: \")\n",
    "    print(str(LAMBDA[i])+'\\n')"
   ]
  },
  {
   "cell_type": "markdown",
   "metadata": {},
   "source": [
    "Ce bloc définit des fonctions permetant de calculer les termes $\\sigma_r$, $b_{sr}$, $c_{sr}$ et $d_{sr}$ définis précédemment."
   ]
  },
  {
   "cell_type": "code",
   "execution_count": 64,
   "metadata": {},
   "outputs": [],
   "source": [
    "def sigma(r):\n",
    "    return ((np.sinh(L*LAMBDA[r])-np.sin(L*LAMBDA[r]))/(np.cosh(L*LAMBDA[r])+np.cos(L*LAMBDA[r])))\n",
    "\n",
    "def bsr(s,r):\n",
    "    if s == r:\n",
    "        return 2\n",
    "    else:\n",
    "        return 4/((LAMBDA[s]/LAMBDA[r])**2+(-1)**(r+s))\n",
    "    \n",
    "def csr(s,r):\n",
    "    if s == r:\n",
    "        return LAMBDA[r]*sigma(r)*(2-LAMBDA[r]*sigma(r))\n",
    "    else:\n",
    "        return 4*(LAMBDA[r]*sigma(r)-LAMBDA[s]*sigma(s))/((-1)**(r+s)-(LAMBDA[s]/LAMBDA[r])**2)\n",
    "    \n",
    "def dsr(s,r):\n",
    "    if s == r:\n",
    "        return csr(s,r)/2\n",
    "    else:\n",
    "        return (4*(LAMBDA[r]*sigma(r)-LAMBDA[s]*sigma(s)+2)*(-1)**(r+s))/(1-(LAMBDA[s]/LAMBDA[r])**4)-((3+(LAMBDA[s]/LAMBDA[r])**4)/(1-((LAMBDA[s]/LAMBDA[r])**4)))*bsr(s,r)                                                                                                                                               \n"
   ]
  },
  {
   "cell_type": "markdown",
   "metadata": {},
   "source": [
    "La fonction MAC définie dans ce bloc permet de comparer deux vecteurs propres. Cette fonction est nécessaire car la fonction qui calcule les vecteurs propres et les valeurs propres d'une matrice les renvoit dans un ordre aléatoire. Ainsi lorsqu'on modifit la valeur de la vitesse u, les modes ne sont pas renvoyés dans le même ordre. Il est donc nécessaire de trouver une méthode permettant de trier les modes pour pouvoir suivre le même mode sur toute la plage de vitesse u. La méthode utilisée consiste à calculer le modal assurance criterion (MAC) entre les vecteurs propres obtenus aux vitesses $u_n$ et $u_{n-1}$. On obtient alors une matrice de taille (NxN) contenant les MAC entre chaque vecteurs. On associt ainsi les vecteurs (et donc les modes) ayant la valeur maximale de MAC. La MAC est définit comme suit: $MAC(X,Y) = \\frac{|\\{X\\}^T|\\{Y\\}^*|^2}{(\\{X\\}^T\\{X\\}^*)(\\{X\\}^T\\{Y\\}^*)}$ "
   ]
  },
  {
   "cell_type": "code",
   "execution_count": 65,
   "metadata": {},
   "outputs": [],
   "source": [
    "def MAC(X,Y):\n",
    "    return ((np.dot(X,np.conj(Y)).real)**2+(np.dot(X,np.conj(Y)).imag)**2)/(np.dot(X,np.conj(X))*np.dot(Y,np.conj(Y))).real"
   ]
  },
  {
   "cell_type": "markdown",
   "metadata": {},
   "source": [
    "Le bloc suivant permet de définir les matrices B, C, D, $\\Delta$ et M."
   ]
  },
  {
   "cell_type": "code",
   "execution_count": 66,
   "metadata": {},
   "outputs": [],
   "source": [
    "B = np.zeros((N,N))\n",
    "C = np.zeros((N,N))\n",
    "D = np.zeros((N,N))\n",
    "M = np.eye(N)\n",
    "for i in range(N):\n",
    "    for j in range(N):\n",
    "        B[i,j] = bsr(i,j)  \n",
    "        C[i,j] = csr(i,j)\n",
    "        D[i,j] = dsr(i,j)\n",
    "\n",
    "Delta = np.zeros((N,N))\n",
    "for i in range(N):\n",
    "    Delta[i,i] = LAMBDA[i]**4\n"
   ]
  },
  {
   "cell_type": "markdown",
   "metadata": {},
   "source": [
    "Dans ce bloc la fonction définie permet de calculer les matrices S et K en fonction de u puis de construire par blocs les matrices E et F. On utilise ensuite la fonction scypi.linalg.eig() pour calculer les vecteurs et valeurs propres du problème."
   ]
  },
  {
   "cell_type": "code",
   "execution_count": 67,
   "metadata": {},
   "outputs": [],
   "source": [
    "def result(u):\n",
    "    S = 2*(beta**0.5)*u*B\n",
    "    K = Delta + gamma*B + (u**2-gamma)*C + gamma*D\n",
    "    F = np.block([[np.zeros((N,N)),M],[M,S]])\n",
    "    E = np.block([[-M,np.zeros((N,N))],[np.zeros((N,N)),K]])     \n",
    "    eigenValues, eigenVectors = linalg.eig(-np.dot(np.linalg.inv(F),E))\n",
    "    return eigenValues, eigenVectors"
   ]
  },
  {
   "cell_type": "markdown",
   "metadata": {},
   "source": [
    "Le bloc suivant initialise les tableaux qui vont contenir les vecteurs propres de chaque mode ainsi que les parties imaginaires et réelles des valeurs propres de chaque mode. Les modes sont ordonnées par partie réelle croissante de la pulsation pour u = 0. La pulsation est définie telle que $\\Omega_r = -i*\\lambda_r$ "
   ]
  },
  {
   "cell_type": "code",
   "execution_count": 68,
   "metadata": {},
   "outputs": [],
   "source": [
    "##Initialisation des modes propres pour u = 0\n",
    "u_array = np.array([0])\n",
    "u = 0\n",
    "eigenValues, eigenVectors = result(u)\n",
    "\n",
    "##Tri des modes propres par partie réelle croissante de Omega\n",
    "arg = np.argsort(np.array([(-1j*eigenValues).real]))[0]\n",
    "IM_Omega = np.array([(-1j*eigenValues).imag[arg]])\n",
    "RE_Omega = np.array([(-1j*eigenValues).real[arg]])\n",
    "Vectors = np.array([eigenVectors[:,arg]])"
   ]
  },
  {
   "cell_type": "markdown",
   "metadata": {},
   "source": [
    "Ce bloc contient la boucle qui va résoudre le problème pour toutes les valeurs de u. Son exécution peut prendre jusqu'à quelques minutes selon les paramétres utilisés au début du code. La boucle continue tant que la valeur de u n'a pas atteint la valeur finale définie au début du code. Un pas de vitesse adaptatif est également utilisé dans la boucle. Si les valeurs du MAC sont inférieures à une certaine valeur alors cela signifie qu'il faut réduire le pas u pour être certain d'avoir une bonne corrélation entre les vcecteurs propres et d'associer les bons modes ensembles. "
   ]
  },
  {
   "cell_type": "code",
   "execution_count": 69,
   "metadata": {},
   "outputs": [],
   "source": [
    "##Début de la boule sur la vitesse\n",
    "i = 0 \n",
    "while u < umax:\n",
    "    i += 1 \n",
    "    u_tempo = u + du  \n",
    "    du_tempo = du  ##Pas adaptatif\n",
    "    \n",
    "    eigenValues, eigenVectors = result(u_tempo)\n",
    "    \n",
    "    ##Construction de la matrice contenant les MAC entre chaque vecteurs propres de l'itération i et i+1\n",
    "    diff = np.zeros((2*N,2*N))\n",
    "    for l in range(2*N):\n",
    "        for k in range(2*N):\n",
    "            diff[l,k] = MAC(Vectors[i-1,:,l],eigenVectors[:,k])\n",
    "        \n",
    "    ##Si la valeur de la MAC entre 2 vecteurs du même mode est inférieure à 0.99 on réduit le pas de moitié pour obtenir la corrélation souhaitée\n",
    "    while min(np.max(diff,1)) < 0.99 and du_tempo > 10**-10:\n",
    "        u_tempo = u+du_tempo/2\n",
    "        du_tempo = du_tempo/2  ##Réduction du pas\n",
    "        eigenValues, eigenVectors = result(u)  ##Nouveau calcul de la solution\n",
    "        for l in range(2*N):\n",
    "            for k in range(2*N):\n",
    "                diff[l,k] = MAC(Vectors[i-1,:,l],eigenVectors[:,k])  ##Nouvelle construction de la matrice contenant les MAC\n",
    "\n",
    "    ##Remplissage des matrices contenant les valeurs de u, de Omega et des vecteurs propres\n",
    "    u = u_tempo\n",
    "    u_array = np.append(u_array,u)\n",
    "    arg_Max = np.argmax(diff,1) \n",
    "    IM_Omega = np.append(IM_Omega,[(-1j*eigenValues[arg_Max]).imag],axis=0)\n",
    "    RE_Omega = np.append(RE_Omega,[(-1j*eigenValues[arg_Max]).real],axis=0)\n",
    "    Vectors = np.append(Vectors,np.array([eigenVectors[:,arg_Max]]),axis=0)"
   ]
  },
  {
   "cell_type": "markdown",
   "metadata": {},
   "source": [
    "Finalement ce dernier bloc permet de tracer les diagrammes d'évolutions des modes souhaités."
   ]
  },
  {
   "cell_type": "code",
   "execution_count": 79,
   "metadata": {
    "scrolled": true
   },
   "outputs": [
    {
     "data": {
      "image/png": "[encoded data removed]",
      "text/plain": [
       "<Figure size 504x504 with 1 Axes>"
      ]
     },
     "metadata": {
      "needs_background": "light"
     },
     "output_type": "display_data"
    }
   ],
   "source": [
    "###Choix des modes à tracer\n",
    "mode1 = N\n",
    "mode2 = N+1\n",
    "mode3 = N+2\n",
    "mode4 = N+3\n",
    "\n",
    "fig = mpl.figure(figsize=(7, 7))\n",
    "ax = fig.add_subplot(1, 1, 1, aspect=1.2)\n",
    "ax.plot(RE_Omega[:,mode1],IM_Omega[:,mode1],label=\"Mode 1\")\n",
    "ax.plot(RE_Omega[:,mode2],IM_Omega[:,mode2],label=\"Mode 2\")\n",
    "ax.plot(RE_Omega[:,mode3],IM_Omega[:,mode3],label=\"Mode 3\")\n",
    "ax.plot(RE_Omega[:,mode4],IM_Omega[:,mode4],label=\"Mode 4\")\n",
    "ax.set_xlim((0,130))\n",
    "ax.set_ylim((-20,30))\n",
    "ax.xaxis.set_major_locator(mpt.MultipleLocator(10))\n",
    "ax.yaxis.set_major_locator(mpt.MultipleLocator(5))\n",
    "ax.set_xlabel(\"Re($\\Omega$)\")\n",
    "ax.set_ylabel(\"Im($\\Omega$)\")\n",
    "ax.set_title(\"Evolution de $\\Omega$ en faisant varier la vitesse u\")\n",
    "ax.legend()\n",
    "ax.grid()"
   ]
  },
  {
   "cell_type": "markdown",
   "metadata": {},
   "source": [
    "Si le mode \"Comparaison avec les résultats de Paidoussis\" a été sélectionné alors le bloc suivant affiche une image du diagramme de l'évolution de $\\Omega$ obtenu dans la recherche de Paidoussis pour les paramètres $\\gamma$ et $\\beta$ choisis. "
   ]
  },
  {
   "cell_type": "markdown",
   "metadata": {},
   "source": [
    "![title](https://raw.githubusercontent.com/MorganDemenois/Pipe-conveying-fluid/main/Images/beta0.2.PNG)"
   ]
  },
  {
   "cell_type": "code",
   "execution_count": null,
   "metadata": {},
   "outputs": [],
   "source": []
  }
 ],
 "metadata": {
  "kernelspec": {
   "display_name": "Python 3",
   "language": "python",
   "name": "python3"
  },
  "language_info": {
   "codemirror_mode": {
    "name": "ipython",
    "version": 3
   },
   "file_extension": ".py",
   "mimetype": "text/x-python",
   "name": "python",
   "nbconvert_exporter": "python",
   "pygments_lexer": "ipython3",
   "version": "3.8.5"
  }
 },
 "nbformat": 4,
 "nbformat_minor": 4
}
