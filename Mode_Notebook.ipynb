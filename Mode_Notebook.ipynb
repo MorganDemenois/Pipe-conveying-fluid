{
 "cells": [
  {
   "cell_type": "markdown",
   "metadata": {},
   "source": [
    "# Tracé des modes propre du tuyau pour différentes valeurs de $\\beta$ et $\\gamma$"
   ]
  },
  {
   "cell_type": "code",
   "execution_count": 2,
   "metadata": {},
   "outputs": [
    {
     "data": {
      "application/javascript": [
       "MathJax.Hub.Config({\n",
       "    TeX: { equationNumbers: { autoNumber: \"AMS\" } }\n",
       "});\n"
      ],
      "text/plain": [
       "<IPython.core.display.Javascript object>"
      ]
     },
     "metadata": {},
     "output_type": "display_data"
    }
   ],
   "source": [
    "%%javascript\n",
    "MathJax.Hub.Config({\n",
    "    TeX: { equationNumbers: { autoNumber: \"AMS\" } }\n",
    "});"
   ]
  },
  {
   "cell_type": "markdown",
   "metadata": {},
   "source": [
    "<p>On rappelle l'équation linéaire du tuyau encastré-libre: \n",
    "\\begin{equation} \n",
    "    \\alpha \\dot{\\eta}^{''''}+\\eta^{''''}+(u^2-\\gamma)(1-\\xi)\\eta^{''}+2u\\sqrt{\\beta}\\dot{\\eta}^{'}+\\gamma\\eta^{'}+\\ddot{\\eta} \\end{equation}  \n",
    "    \n",
    "Où $( )^{'} = \\frac{\\partial ( )}{\\partial \\xi}, \\quad \\dot{( )} = \\frac{\\partial ()}{\\partial \\tau} \\quad$\n",
    "Avec $\\xi=\\frac{x}{L},\\quad \\eta=\\frac{w}{L},\\quad \\tau=\\sqrt{\\frac{EI}{M+m}}\\frac{t}{L^2}\\quad $\n",
    "Et $u = \\sqrt{\\frac{M}{EI}}LU, \\quad \\beta=\\frac{M}{M+m}, \\quad \\gamma = \\frac{(M+m)L^3}{EI}g $</p>\n",
    "\n",
    "<p>Pour résoudre cette équation on utilise la méthode de Galerkin consistant à écrire la solution comme une combinaison linéaire des modes propres d'une poutre: \n",
    "\\begin{equation}\n",
    "\\eta(\\xi,\\tau)=\\sum_{r=1}^{\\infty}\\phi_r(\\xi)q_r(\\tau) \n",
    "\\end{equation}   \n",
    "Où $\\phi_r(\\xi)$ est la r-ième fonction propre d'une poutre encastrée-libre: \n",
    "\\begin{equation}\n",
    "\\phi_r(x)=cosh(\\lambda_r x)-cos(\\lambda_r x)-\\sigma_r(sinh(\\lambda_r x)-sin(\\lambda_r x)) \n",
    "\\end{equation}\n",
    "Avec \n",
    "\\begin{equation}    \n",
    "\\sigma_r = \\frac{(sinh(\\lambda_r L)-sin(\\lambda_r L)}{cosh(\\lambda_r L)+cos(\\lambda_r L)} \n",
    "\\end{equation}\n",
    "Et $\\lambda_r$ la r-iéme valeur propre adimentionnée d'une poutre encastrée libre vérifiant \n",
    "\\begin{equation}\n",
    "cos(\\lambda_r L)cosh(\\lambda_r L)+1=0 \n",
    "\\end{equation}\n",
    "Ces résultats peuvent se retrouver facilement en appliquant la théorie des poutres sur une poutre vibrante.</p>\n",
    "<p>On injecte alors la solution (2) dans l'equation (1) et on intégre sur l'intervalle [0,1]. Comme les fonctions propres $\\phi_r$ sont orthonormées on peut écrire:\n",
    "\\begin{equation}\n",
    "\\int_0^1\\phi_s\\phi_rd\\xi=\\delta_{sr}\n",
    "\\end{equation}\n",
    "De plus l'équation de la poutre encastrée libre donne: \n",
    "\\begin{equation}\n",
    "\\phi_r^{''''}=\\lambda_r^4\\phi_r\n",
    "\\end{equation}\n",
    "Ainsi on obtient l'équation suivante pour s de 1 à N:\n",
    "\\begin{equation}\n",
    "\\sum^N_{r=1}\\{\\delta_{sr}\\ddot{q_r}+(2u\\sqrt{\\beta}\\int_0^1\\phi_s\\phi_r^{''}d\\xi)\\dot{q_r}+[\\lambda_r^4\\delta_{sr}+(u^2-\\gamma)\\int^1_0\\phi_s\\phi_r^{''}d\\xi+\\gamma\\int^1_0\\phi_s\\phi_r^{'}d\\xi+\\gamma\\int^1_0\\xi\\phi_s\\phi_r^{''}d\\xi]q_r\\}=0\n",
    "\\end{equation}\n",
    "On peut poser:\n",
    "\\begin{equation}\n",
    "b_{sr}=\\int^1_0\\phi_s\\phi_r^{'}d\\xi \\quad c_{sr}=\\int^1_0\\phi_s\\phi_r^{''}d\\xi \\quad d_{sr}=\\int^1_0\\xi\\phi_s\\phi_r^{''}d\\xi\n",
    "\\end{equation}\n",
    "Avec les conditions aux limites $\\phi(0)=\\phi(0)^{'}=\\phi(L)^{''}=\\phi(L)^{'''}=0$ on obtient ainsi:\n",
    "\\begin{equation}\n",
    "b_{sr}=\\frac{4}{(\\frac{\\lambda_s}{\\lambda_r})^2+(-1)^{r+s}} \\quad (s\\ne r) \\quad\n",
    "b_{rr}=2   \\\\\n",
    "c_{sr}=\\frac{4(\\lambda_r \\sigma_r-\\lambda_s \\sigma_s)} {(-1)^{r+s}-(\\frac{\\lambda_s}{\\lambda_r})^2} \\quad (s\\ne r) \\quad\n",
    "c_{rr}=\\lambda_r \\sigma_r(2-\\lambda_r \\sigma_r)  \\\\\n",
    "d_{sr}=\\frac{4(\\lambda_r \\sigma_r-\\lambda_s \\sigma_s+2)} {(1-(\\frac{\\lambda_s}{\\lambda_r})^4}(-1)^{r+s}-\\frac{3+(\\frac{\\lambda_s}{\\lambda_r})^4}{1-(\\frac{\\lambda_s}{\\lambda_r})^4}b_sr \\quad (s\\ne r) \\quad d_{rr}=\\frac{1}{2}c_{rr}\n",
    "\\end{equation}\n",
    "On peut ainsi réécrire (8) sous forme matricielle:\n",
    "\\begin{equation}\n",
    "\\ddot{q}+2u\\sqrt{\\beta}B\\dot(q)+[\\Delta+\\gamma B+(u^2-\\gamma)C+\\gamma D]q=0\n",
    "\\end{equation}\n",
    "Où les matrices B, C et D sont des matrices de diamension (NxN) respectivement constituées des termes $b_{sr}$ $c_{sr}$ et $d_{sr}$ et où la matrice $\\Delta$ est une matrice diagonale dont les termes sont les $\\lambda_r^4$\n",
    "On obtient ainsi un système du type: \n",
    "\\begin{equation}\n",
    "M\\ddot{q}+S\\dot{q}+Kq\n",
    "\\end{equation}\n",
    "On veut ramener ce problème d'ordre 2 à un problème d'ordre 1, pour cela on pose: $z=(\\dot{q}, q)$ et l'equation (12) se réécrit alors:\n",
    "\\begin{equation}\n",
    "F\\dot{z}+Ez=0\n",
    "\\end{equation}\n",
    "Avec $F=\\begin{pmatrix}\n",
    "0 & M\\\\\n",
    "M & S\n",
    "\\end{pmatrix}$ et $E=\\begin{pmatrix}\n",
    "-M & 0\\\\\n",
    "0 & K\n",
    "\\end{pmatrix}$\n",
    "On propose $z=Ae^{\\lambda \\tau}$ comme solution et on l'injecte dans l'équation (13). On obtient alors:\n",
    "\\begin{equation}\n",
    "\\lambda FAe^{\\lambda\\tau}+EAe^{\\lambda \\tau}= 0 \\iff (\\lambda F+E)A=0 \\iff \\lambda I_dA = (-F^{-1}E)A\n",
    "\\end{equation}\n",
    "Il nous suffit ainsi de trouver les valeurs propres de la matrice $-F^{-1}E$ pour trouver $\\lambda$"
   ]
  },
  {
   "cell_type": "markdown",
   "metadata": {},
   "source": [
    "Le code suivant permet de résoudre numériquement le problème définit précédemment et de visualiser les modes propres. Il faut exécuter chaque bloc dans l'ordre pour résoudre le problème."
   ]
  },
  {
   "cell_type": "markdown",
   "metadata": {},
   "source": [
    "Ce premier bloc permet d'importer les bibliothéques nécessaires à la résolution du problème. La bibliothéque numpy permet de travailler avec des vecteurs et des matrices. La bibliothéque linalg de scipy permet de calculer les valeurs propres de la matrice. Enfin la bibliothéque matplotlib.pyplot permet de tracer les résultats."
   ]
  },
  {
   "cell_type": "code",
   "execution_count": null,
   "metadata": {},
   "outputs": [],
   "source": [
    "import numpy as np\n",
    "from scipy import linalg\n",
    "import matplotlib.pyplot as mpl"
   ]
  },
  {
   "cell_type": "markdown",
   "metadata": {},
   "source": [
    "Ce second bloc permet de définir les paramètres du calcul. Vous pouvez modifiez ces paramètres librements pour observer leurs influences sur les résultats."
   ]
  },
  {
   "cell_type": "code",
   "execution_count": null,
   "metadata": {},
   "outputs": [],
   "source": [
    "L = 0.5  ##Longueur du tuyau en m\n",
    "N = 10  ##Nombre de modes de poutre utilisé avec la méthode de Galerkin\n",
    "umax = 20  ##Vitesse maximale du fluide\n",
    "du = 0.01  ##Valeur utilisée pour l'incrémentation de la vitesse du fluide\n",
    "gamma = 10  ##Valeur du paramètre de gravité gamma\n",
    "beta = 0.65  ##Valeur du paramètre de masse beta"
   ]
  },
  {
   "cell_type": "markdown",
   "metadata": {},
   "source": [
    "Ce bloc sert à calculer les N valeurs propres de poutre encastrée-libre $(\\lambda)$. On cherche des solutions de l'équation (3) obtenues avec la théorie des poutres. On commence par définir une fonction qui renvoit la valeur de l'équation caractéristique (3). On cherche ensuite les N premiéres racines de cette fonction. Pour cela on utilise la méthode des sécantes qui reprend le principe de la méthode de Newton. On utilise la relation de récurrence suivante: $x_{n+1}=x_n-\\frac{x_n-x_{n-1}}{f(x_n)-f(x_{n-1})}f(x_n)$ qui converge vers une racine de f. De plus la pratique a montré que $\\lambda_r \\approx \\frac{2k+1}{2}\\pi$. On choisit donc $x_0=\\frac{2k+1}{2}\\pi+0.1$ et $x_1=\\frac{2k+1}{2}\\pi-0.1$ pour chaque valeur propre pour que la méthode converge vers la bonne racine.  "
   ]
  },
  {
   "cell_type": "code",
   "execution_count": null,
   "metadata": {},
   "outputs": [],
   "source": [
    "### Fonction retournant la valeur de l'équation caractéristique d'une poutre (Équation (3)) ###\n",
    "def Eq_Cara(Lambda):\n",
    "    return np.cos(Lambda)*np.cosh(Lambda)+1\n",
    "\n",
    "\n",
    "LAMBDA = []\n",
    "\n",
    "for i in range(N):\n",
    "    LL_Guess = np.pi*(2*i+1)/2\n",
    "    x0 = LL_Guess + 0.1\n",
    "    x1 = LL_Guess - 0.1\n",
    "    while abs(x0-x1)>10**-16:\n",
    "        xnew = x0 - (x0-x1)*Eq_Cara(x0)/(Eq_Cara(x0)-Eq_Cara(x1))\n",
    "        x1 = x0\n",
    "        x0 = xnew\n",
    "    LAMBDA.append(x0)\n",
    "\n",
    "for i in LAMBDA:\n",
    "    print(\"\\nVecteur propre:\")\n",
    "    print(i)\n",
    "    print(\"Valeur de l'équation:\")\n",
    "    print(Eq_Cara(i))\n",
    "print(\"\\n\")"
   ]
  },
  {
   "cell_type": "markdown",
   "metadata": {},
   "source": [
    "Ce bloc définit des fonctions permetant de calculer les termes $\\sigma_r$, $b_{sr}$, $c_{sr}$ et $d_{sr}$ définis précédemment."
   ]
  },
  {
   "cell_type": "code",
   "execution_count": null,
   "metadata": {},
   "outputs": [],
   "source": [
    "def sigma(r):\n",
    "    return ((np.sinh(L*LAMBDA[r])-np.sin(L*LAMBDA[r]))/(np.cosh(L*LAMBDA[r])+np.cos(L*LAMBDA[r])))\n",
    "\n",
    "def bsr(s,r):\n",
    "    if s == r:\n",
    "        return 2\n",
    "    else:\n",
    "        return 4/((LAMBDA[s]/LAMBDA[r])**2+(-1)**(r+s))\n",
    "    \n",
    "def csr(s,r):\n",
    "    if s == r:\n",
    "        return LAMBDA[r]*sigma(r)*(2-LAMBDA[r]*sigma(r))\n",
    "    else:\n",
    "        return 4*(LAMBDA[r]*sigma(r)-LAMBDA[s]*sigma(s))/((-1)**(r+s)-(LAMBDA[s]/LAMBDA[r])**2)\n",
    "    \n",
    "def dsr(s,r):\n",
    "    if s == r:\n",
    "        return csr(s,r)/2\n",
    "    else:\n",
    "        return (4*(LAMBDA[r]*sigma(r)-LAMBDA[s]*sigma(s)+2)*(-1)**(r+s))/(1-(LAMBDA[s]/LAMBDA[r])**4)-((3+(LAMBDA[s]/LAMBDA[r])**4)/(1-((LAMBDA[s]/LAMBDA[r])**4)))*bsr(s,r)                                                                                                                                               \n"
   ]
  },
  {
   "cell_type": "markdown",
   "metadata": {},
   "source": [
    "La fonction MAC définie dans ce bloc permet de comparer deux vecteurs propres. Cette fonction est nécessaire car la fonction qui calcule les vecteurs propres et les valeurs propres d'une matrice les renvoit dans un ordre aléatoire. Ainsi lorsqu'on modifit la valeur de la vitesse u, les modes ne sont pas renvoyés dans le même ordre. Il est donc nécessaire de trouver une méthode permettant de trier les modes pour pouvoir suivre le même mode sur toute la plage de vitesse u. La méthode utilisée consiste à calculer le modal assurance criterion (MAC) entre les vecteurs propres obtenus aux vitesses $u_n$ et $u_{n-1}$. On obtient alors une matrice de taille (NxN) contenant les MAC entre chaque vecteurs. On associt ainsi les vecteurs (et donc les modes) ayant la valeur maximale de MAC. La MAC est définit comme suit: $MAC(X,Y) = \\frac{|\\{X\\}^T|\\{Y\\}^*|^2}{(\\{X\\}^T\\{X\\}^*)(\\{X\\}^T\\{Y\\}^*)}$ "
   ]
  },
  {
   "cell_type": "code",
   "execution_count": null,
   "metadata": {},
   "outputs": [],
   "source": [
    "def MAC(X,Y):\n",
    "    return ((np.dot(X,np.conj(Y)).real)**2+(np.dot(X,np.conj(Y)).imag)**2)/(np.dot(X,np.conj(X))*np.dot(Y,np.conj(Y))).real"
   ]
  },
  {
   "cell_type": "markdown",
   "metadata": {},
   "source": [
    "Le bloc suivant permet de définir les matrices B, C, D, $\\Delta$ et M."
   ]
  },
  {
   "cell_type": "code",
   "execution_count": null,
   "metadata": {},
   "outputs": [],
   "source": [
    "B = np.zeros((N,N))\n",
    "C = np.zeros((N,N))\n",
    "D = np.zeros((N,N))\n",
    "for i in range(N):\n",
    "    for j in range(N):\n",
    "        B[i,j] = bsr(i,j)  \n",
    "        C[i,j] = csr(i,j)\n",
    "        D[i,j] = dsr(i,j)\n",
    "\n",
    "Delta = np.zeros((N,N))\n",
    "for i in range(N):\n",
    "    Delta[i,i] = LAMBDA[i]**4\n",
    "M = np.eye(N)"
   ]
  },
  {
   "cell_type": "markdown",
   "metadata": {},
   "source": [
    "Dans ce bloc la fonction définie permet de calculer les matrices S et K en fonction de u puis de construire par blocs les matrices E et F. On utilise ensuite la fonction scypi.linalg.eig() pour calculer les vecteurs et valeurs propres du problème."
   ]
  },
  {
   "cell_type": "code",
   "execution_count": null,
   "metadata": {},
   "outputs": [],
   "source": [
    "def result(u):\n",
    "    S = 2*(beta**0.5)*u*B\n",
    "    K = Delta + gamma*B + (u**2-gamma)*C + gamma*D\n",
    "    F = np.block([[np.zeros((N,N)),M],[M,S]])\n",
    "    E = np.block([[-M,np.zeros((N,N))],[np.zeros((N,N)),K]])     \n",
    "    eigenValues, eigenVectors = linalg.eig(-np.dot(np.linalg.inv(F),E))\n",
    "    return eigenValues, eigenVectors"
   ]
  },
  {
   "cell_type": "markdown",
   "metadata": {},
   "source": [
    "Le bloc suivant initialise les tableaux qui vont contenir les vecteurs propres de chaque mode ainsi que les parties imaginaires et réelles des valeurs propres de chaque mode. Les modes sont ordonnées par partie réelle croissante de la pulsation pour u = 0. La pulsation est définie telle que $\\Omega_r = -i*\\lambda_r$ "
   ]
  },
  {
   "cell_type": "code",
   "execution_count": null,
   "metadata": {},
   "outputs": [],
   "source": [
    "u_array = np.array([0])\n",
    "u = 0\n",
    "eigenValues, eigenVectors = result(u)\n",
    "print(eigenValues)\n",
    "\n",
    "arg = np.argsort(np.array([(-1j*eigenValues).real]))[0]\n",
    "\n",
    "IM_Omega = np.array([(-1j*eigenValues).imag[arg]])\n",
    "RE_Omega = np.array([(-1j*eigenValues).real[arg]])\n",
    "Vectors = np.array([eigenVectors[:,arg]])"
   ]
  },
  {
   "cell_type": "markdown",
   "metadata": {},
   "source": [
    "Ce bloc contient la boucle qui va résoudre le problème pour toutes les valeurs de u. Son exécution peut prendre jusqu'à quelques minutes selon les paramétres utilisés au début du code. La boucle continue tant que la valeur de u n'a pas atteint la valeur finale définie au début du code. Un pas de vitesse adaptatif est également utilisé dans la boucle. Si les valeurs du MAC sont inférieures à une certaine valeur alors cela signifie qu'il faut réduire le pas u pour être certain d'avoir une bonne corrélation entre les vcecteurs propres et d'associer les bons modes ensembles. "
   ]
  },
  {
   "cell_type": "code",
   "execution_count": null,
   "metadata": {},
   "outputs": [],
   "source": [
    "i = 0 \n",
    "while u < umax:\n",
    "    i += 1\n",
    "    u_tempo = u + du  \n",
    "    du_tempo = du\n",
    "    \n",
    "    eigenValues, eigenVectors = result(u_tempo)\n",
    "    \n",
    "\n",
    "    diff = np.zeros((2*N,2*N))\n",
    "    for l in range(2*N):\n",
    "        for k in range(2*N):\n",
    "            diff[l,k] = MAC(Vectors[i-1,:,l],eigenVectors[:,k])\n",
    "        \n",
    "          \n",
    "    \n",
    "    while min(np.max(diff,1)) < 0.99999 and du_tempo > 10**-10:\n",
    "        \n",
    "        u_tempo = u+du_tempo/2\n",
    "        du_tempo = du_tempo/2\n",
    "        eigenValues, eigenVectors = result(u)\n",
    "        for l in range(2*N):\n",
    "            for k in range(2*N):\n",
    "                diff[l,k] = MAC(Vectors[i-1,:,l],eigenVectors[:,k])\n",
    "\n",
    "    \n",
    "    u = u_tempo\n",
    "    u_array = np.append(u_array,u)\n",
    "    arg_Max = np.argmax(diff,1) \n",
    "    IM_Omega = np.append(IM_Omega,[(-1j*eigenValues[arg_Max]).imag],axis=0)\n",
    "    RE_Omega = np.append(RE_Omega,[(-1j*eigenValues[arg_Max]).real],axis=0)\n",
    "    Vectors = np.append(Vectors,np.array([eigenVectors[:,arg_Max]]),axis=0)"
   ]
  },
  {
   "cell_type": "markdown",
   "metadata": {},
   "source": [
    "Finalement ce dernier bloc permet de tracer les diagrammes d'évolutions des modes souhaités."
   ]
  },
  {
   "cell_type": "code",
   "execution_count": 1,
   "metadata": {},
   "outputs": [
    {
     "ename": "NameError",
     "evalue": "name 'N' is not defined",
     "output_type": "error",
     "traceback": [
      "\u001b[1;31m---------------------------------------------------------------------------\u001b[0m",
      "\u001b[1;31mNameError\u001b[0m                                 Traceback (most recent call last)",
      "\u001b[1;32m<ipython-input-1-5f84ed572492>\u001b[0m in \u001b[0;36m<module>\u001b[1;34m\u001b[0m\n\u001b[1;32m----> 1\u001b[1;33m \u001b[0mmode1\u001b[0m \u001b[1;33m=\u001b[0m \u001b[0mN\u001b[0m\u001b[1;33m\u001b[0m\u001b[1;33m\u001b[0m\u001b[0m\n\u001b[0m\u001b[0;32m      2\u001b[0m \u001b[0mmode2\u001b[0m \u001b[1;33m=\u001b[0m \u001b[0mN\u001b[0m\u001b[1;33m+\u001b[0m\u001b[1;36m1\u001b[0m\u001b[1;33m\u001b[0m\u001b[1;33m\u001b[0m\u001b[0m\n\u001b[0;32m      3\u001b[0m \u001b[0mmode3\u001b[0m \u001b[1;33m=\u001b[0m \u001b[0mN\u001b[0m\u001b[1;33m+\u001b[0m\u001b[1;36m2\u001b[0m\u001b[1;33m\u001b[0m\u001b[1;33m\u001b[0m\u001b[0m\n\u001b[0;32m      4\u001b[0m \u001b[0mmode4\u001b[0m \u001b[1;33m=\u001b[0m \u001b[0mN\u001b[0m\u001b[1;33m+\u001b[0m\u001b[1;36m3\u001b[0m\u001b[1;33m\u001b[0m\u001b[1;33m\u001b[0m\u001b[0m\n\u001b[0;32m      5\u001b[0m \u001b[1;33m\u001b[0m\u001b[0m\n",
      "\u001b[1;31mNameError\u001b[0m: name 'N' is not defined"
     ]
    }
   ],
   "source": [
    "mode1 = N\n",
    "mode2 = N+1\n",
    "mode3 = N+2\n",
    "mode4 = N+3\n",
    "   \n",
    "mpl.plot(RE_Omega[:,mode1],IM_Omega[:,mode1],label=\"Mode 1\")\n",
    "mpl.plot(RE_Omega[:,mode2],IM_Omega[:,mode2],label=\"Mode 2\")\n",
    "mpl.plot(RE_Omega[:,mode3],IM_Omega[:,mode3],label=\"Mode 3\")\n",
    "mpl.plot(RE_Omega[:,mode4],IM_Omega[:,mode4],label=\"Mode 4\")\n",
    "mpl.xlabel(\"Re(Omega)\")\n",
    "mpl.ylabel(\"Im(Omega)\")\n",
    "mpl.title(\"Evolution de Omega en faisant varier la vitesse u\")\n",
    "mpl.legend()\n",
    "mpl.show()\n",
    "\n",
    "mpl.plot(u_array,RE_Omega[:,mode1],label=\"Mode 1\")\n",
    "mpl.plot(u_array,RE_Omega[:,mode2],label=\"Mode 2\")\n",
    "mpl.plot(u_array,RE_Omega[:,mode3],label=\"Mode 3\")\n",
    "mpl.plot(u_array,RE_Omega[:,mode4],label=\"Mode 4\")\n",
    "mpl.xlabel(\"u\")\n",
    "mpl.ylabel(\"Re(Omega)\")\n",
    "mpl.title(\"Evolution de la fréquence en faisant varier la vitesse u\")\n",
    "mpl.legend()\n",
    "mpl.show()\n",
    "\n",
    "mpl.plot(u_array,IM_Omega[:,mode1],label=\"Mode 1\")\n",
    "mpl.plot(u_array,IM_Omega[:,mode2],label=\"Mode 2\")\n",
    "mpl.plot(u_array,IM_Omega[:,mode3],label=\"Mode 3\")\n",
    "mpl.plot(u_array,IM_Omega[:,mode4],label=\"Mode 4\")\n",
    "mpl.xlabel(\"u\")\n",
    "mpl.ylabel(\"IM(Omega)\")\n",
    "mpl.title(\"Evolution de l'amortissement en faisant varier la vitesse u\")\n",
    "mpl.legend()\n",
    "mpl.show()"
   ]
  },
  {
   "cell_type": "code",
   "execution_count": null,
   "metadata": {},
   "outputs": [],
   "source": []
  }
 ],
 "metadata": {
  "kernelspec": {
   "display_name": "Python 3",
   "language": "python",
   "name": "python3"
  },
  "language_info": {
   "codemirror_mode": {
    "name": "ipython",
    "version": 3
   },
   "file_extension": ".py",
   "mimetype": "text/x-python",
   "name": "python",
   "nbconvert_exporter": "python",
   "pygments_lexer": "ipython3",
   "version": "3.8.5"
  }
 },
 "nbformat": 4,
 "nbformat_minor": 4
}
