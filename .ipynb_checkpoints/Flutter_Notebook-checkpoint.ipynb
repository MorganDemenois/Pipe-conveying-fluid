{
 "cells": [
  {
   "cell_type": "markdown",
   "metadata": {},
   "source": [
    "# Calcul de la vitesse critique en fonction de $\\beta$ et de $\\gamma$"
   ]
  },
  {
   "cell_type": "markdown",
   "metadata": {},
   "source": [
    "Dans ce code on se propose d'étudier l'impact du paramètre de masse: $\\beta = \\frac{M}{M+m}$ et du paramètre de gravité $\\gamma = \\frac{g(m+M)L^{3}}{EI}$ sur la vitesse critique $u_{cr}=\\sqrt{\\frac{M}{EI}}LU_{cr}$   \n",
    "La vitesse critique est définie comme la vitesse à partir de laquelle apparait le phénomène de flutter, c'est à dire la vitesse à partir de laquelle, pour au moins un mode du tuyau, l'amortissement devient nul puis négatif tout en gardant une fréquence non nulle contrairement au buckling.   \n",
    "Pour résoudre ce problème on utilise la même méthode que dans le code permettant d'obtenir les modes vibratoire d'un tuyau encastré-libre. Pour chaque valeur de $\\beta$ et de $\\gamma$ on fait augmenter u et on parcourt les valeurs propres jusqu'à ce que l'amortissement d'un mode s'annule tout en vérifiant que la féquence du mode associé reste non nul et qu'il ne s'agit pas de buckling. "
   ]
  },
  {
   "cell_type": "markdown",
   "metadata": {},
   "source": [
    "Importation des librairies"
   ]
  },
  {
   "cell_type": "code",
   "execution_count": 2,
   "metadata": {},
   "outputs": [],
   "source": [
    "import numpy as np\n",
    "from scipy import linalg\n",
    "import matplotlib.pyplot as mpl"
   ]
  },
  {
   "cell_type": "markdown",
   "metadata": {},
   "source": [
    "Paramètres du code"
   ]
  },
  {
   "cell_type": "code",
   "execution_count": 9,
   "metadata": {},
   "outputs": [],
   "source": [
    "L = 0.5\n",
    "N = 10\n",
    "array_beta = np.linspace(0,1,100)\n",
    "array_gamma = np.array([-10,0,10,100])\n",
    "u_array = np.linspace(0,50,5000)"
   ]
  },
  {
   "cell_type": "markdown",
   "metadata": {},
   "source": [
    "Calcul des modes propres d'une poutre encastrée-libre"
   ]
  },
  {
   "cell_type": "code",
   "execution_count": 10,
   "metadata": {},
   "outputs": [
    {
     "name": "stdout",
     "output_type": "stream",
     "text": [
      "\n",
      "Vecteur propre:\n",
      "1.8751040687119611\n",
      "Valeur de l'équation:\n",
      "1.1102230246251565e-16\n",
      "\n",
      "Vecteur propre:\n",
      "4.694091132974175\n",
      "Valeur de l'équation:\n",
      "2.3647750424515834e-14\n",
      "\n",
      "Vecteur propre:\n",
      "7.854757438237613\n",
      "Valeur de l'équation:\n",
      "-8.704148513061227e-14\n",
      "\n",
      "Vecteur propre:\n",
      "10.995540734875467\n",
      "Valeur de l'équation:\n",
      "7.340683616519073e-12\n",
      "\n",
      "Vecteur propre:\n",
      "14.13716839104647\n",
      "Valeur de l'équation:\n",
      "-9.371081688414051e-11\n",
      "\n",
      "Vecteur propre:\n",
      "17.278759532088237\n",
      "Valeur de l'équation:\n",
      "1.7810038333010425e-08\n",
      "\n",
      "Vecteur propre:\n",
      "20.42035225104125\n",
      "Valeur de l'équation:\n",
      "-6.825807852273158e-08\n",
      "\n",
      "Vecteur propre:\n",
      "23.561944901806445\n",
      "Valeur de l'équation:\n",
      "1.3439708729579003e-05\n",
      "\n",
      "Vecteur propre:\n",
      "26.7035375555183\n",
      "Valeur de l'équation:\n",
      "6.237990383906045e-06\n",
      "\n",
      "Vecteur propre:\n",
      "29.845130209102816\n",
      "Valeur de l'équation:\n",
      "-0.0052800496220328785\n",
      "\n",
      "\n"
     ]
    }
   ],
   "source": [
    "def Eq_Cara(Lambda):\n",
    "    return np.cos(Lambda)*np.cosh(Lambda)+1\n",
    "\n",
    "LAMBDA = []\n",
    "\n",
    "for i in range(N):\n",
    "    LL_Guess = np.pi*(2*i+1)/2\n",
    "    x0 = LL_Guess + 0.1\n",
    "    x1 = LL_Guess - 0.1\n",
    "    while abs(x0-x1)>10**-16:\n",
    "        xnew = x0 - (x0-x1)*Eq_Cara(x0)/(Eq_Cara(x0)-Eq_Cara(x1))\n",
    "        x1 = x0\n",
    "        x0 = xnew\n",
    "    LAMBDA.append(x0)\n",
    "\n",
    "for i in LAMBDA:\n",
    "    print(\"\\nVecteur propre:\")\n",
    "    print(i)\n",
    "    print(\"Valeur de l'équation:\")\n",
    "    print(Eq_Cara(i))\n",
    "print(\"\\n\")"
   ]
  },
  {
   "cell_type": "markdown",
   "metadata": {},
   "source": [
    "Construction des matrices et définition de la fonction retournant les valeurs propres et vecteurs propres en fonction de u, $\\beta$ et $\\gamma$."
   ]
  },
  {
   "cell_type": "code",
   "execution_count": 11,
   "metadata": {},
   "outputs": [],
   "source": [
    "def sigma(r):\n",
    "    return ((np.sinh(L*LAMBDA[r])-np.sin(L*LAMBDA[r]))/(np.cosh(L*LAMBDA[r])+np.cos(L*LAMBDA[r])))\n",
    "\n",
    "def bsr(s,r):\n",
    "    if s == r:\n",
    "        return 2\n",
    "    else:\n",
    "        return 4/((LAMBDA[s]/LAMBDA[r])**2+(-1)**(r+s))\n",
    "    \n",
    "def csr(s,r):\n",
    "    if s == r:\n",
    "        return LAMBDA[r]*sigma(r)*(2-LAMBDA[r]*sigma(r))\n",
    "    else:\n",
    "        return 4*(LAMBDA[r]*sigma(r)-LAMBDA[s]*sigma(s))/((-1)**(r+s)-(LAMBDA[s]/LAMBDA[r])**2)\n",
    "    \n",
    "def dsr(s,r):\n",
    "    if s == r:\n",
    "        return csr(s,r)/2\n",
    "    else:\n",
    "        return (4*(LAMBDA[r]*sigma(r)-LAMBDA[s]*sigma(s)+2)*(-1)**(r+s))/(1-(LAMBDA[s]/LAMBDA[r])**4)-((3+(LAMBDA[s]/LAMBDA[r])**4)/(1-((LAMBDA[s]/LAMBDA[r])**4)))*bsr(s,r)                                                                                                                                               \n",
    "\n",
    "\n",
    "\n",
    "\n",
    "\n",
    "B = np.zeros((N,N))\n",
    "C = np.zeros((N,N))\n",
    "D = np.zeros((N,N))\n",
    "for i in range(N):\n",
    "    for j in range(N):\n",
    "        B[i,j] = bsr(i,j)  \n",
    "        C[i,j] = csr(i,j)\n",
    "        D[i,j] = dsr(i,j)\n",
    "M = np.eye(N)\n",
    "        \n",
    "        \n",
    "Delta = np.zeros((N,N))\n",
    "for i in range(N):\n",
    "    Delta[i,i] = LAMBDA[i]**4\n",
    "\n",
    "def result(u,beta,gamma):\n",
    "    S = 2*beta**0.5*u*B\n",
    "    K = Delta + gamma*B + (u**2-gamma)*C + gamma*D\n",
    "    F = np.block([[np.zeros((N,N)),M],[M,S]])\n",
    "    E = np.block([[-M,np.zeros((N,N))],[np.zeros((N,N)),K]])     \n",
    "    eigenValues, eigenVectors = linalg.eig(-np.dot(np.linalg.inv(F),E))\n",
    "\n",
    "    return eigenValues, eigenVectors"
   ]
  },
  {
   "cell_type": "markdown",
   "metadata": {},
   "source": [
    "Boucles sur les 3 paramètres"
   ]
  },
  {
   "cell_type": "code",
   "execution_count": 12,
   "metadata": {},
   "outputs": [],
   "source": [
    "\n",
    "\n",
    "    \n",
    "b_critique = np.zeros((len(array_gamma),len(u_array)))\n",
    "\n",
    "for g in range(len(array_gamma)):\n",
    "    for i in range(len(u_array)):\n",
    "        u = u_array[i]\n",
    "        gamma = array_gamma[g]\n",
    "        beta = array_beta[-1]\n",
    "        \n",
    "        eigenValues, eigenVectors = result(u,beta,gamma)\n",
    "        \n",
    "        for b in range(1,len(array_beta)):\n",
    "            beta = array_beta[len(array_beta)-b]   \n",
    "        \n",
    "            eigenValues, eigenVectors = result(u,beta,gamma)\n",
    "            \n",
    "            Arg = np.argmin((-1j*eigenValues).imag)\n",
    "                \n",
    "            if (-1j*eigenValues).imag[Arg] < -0.01 and b_critique[g,i] == 0 and (-1j*eigenValues).real[Arg] != 0:\n",
    "                b_critique[g,i] = beta\n",
    "                \n",
    "\n"
   ]
  },
  {
   "cell_type": "markdown",
   "metadata": {},
   "source": [
    "Tracé du diagramme"
   ]
  },
  {
   "cell_type": "code",
   "execution_count": 13,
   "metadata": {
    "scrolled": true
   },
   "outputs": [
    {
     "data": {
      "image/png": "[encoded data removed]",
      "text/plain": [
       "<Figure size 432x288 with 1 Axes>"
      ]
     },
     "metadata": {
      "needs_background": "light"
     },
     "output_type": "display_data"
    }
   ],
   "source": [
    "mpl.xlim((0,1))\n",
    "mpl.ylim((0,24))\n",
    "mpl.plot(b_critique[0,:],u_array,label='Gamma = -10')\n",
    "mpl.plot(b_critique[1,:],u_array,label='Gamma = 0')\n",
    "mpl.plot(b_critique[2,:],u_array,label='Gamma = 10')\n",
    "mpl.plot(b_critique[3,:],u_array,label='Gamma = 100')\n",
    "mpl.legend()\n",
    "mpl.xlabel(\"Beta\")\n",
    "mpl.ylabel(\"U critique\")\n",
    "mpl.title(\"Flutter instability\")\n",
    "mpl.savefig('flutter.jpg')\n",
    "mpl.show()"
   ]
  },
  {
   "cell_type": "code",
   "execution_count": null,
   "metadata": {},
   "outputs": [],
   "source": []
  },
  {
   "cell_type": "code",
   "execution_count": null,
   "metadata": {},
   "outputs": [],
   "source": []
  },
  {
   "cell_type": "code",
   "execution_count": null,
   "metadata": {},
   "outputs": [],
   "source": []
  }
 ],
 "metadata": {
  "kernelspec": {
   "display_name": "Python 3",
   "language": "python",
   "name": "python3"
  },
  "language_info": {
   "codemirror_mode": {
    "name": "ipython",
    "version": 3
   },
   "file_extension": ".py",
   "mimetype": "text/x-python",
   "name": "python",
   "nbconvert_exporter": "python",
   "pygments_lexer": "ipython3",
   "version": "3.8.5"
  }
 },
 "nbformat": 4,
 "nbformat_minor": 4
}
